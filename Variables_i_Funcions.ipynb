{
  "cells": [
    {
      "cell_type": "markdown",
      "metadata": {
        "id": "reDEqwzmHuvI"
      },
      "source": [
        "# Exercici: variables i funcions"
      ]
    },
    {
      "cell_type": "markdown",
      "metadata": {
        "id": "ksZ1a8wXHuvV"
      },
      "source": [
        "L'ús de print() imprimirà qualsevol cosa\n",
        "entre els paràntesis al teu termianl.\n",
        "Canvia la frase que s'imprimeix a continuació,\n",
        "deseu i, a continuació, executeu l'script per veure els vostres canvis.\n",
        "Després de confirmar que funciona, comenta-ho."
      ]
    },
    {
      "cell_type": "code",
      "execution_count": null,
      "metadata": {
        "scrolled": false,
        "colab": {
          "base_uri": "https://localhost:8080/"
        },
        "id": "k2IDSZUmHuvX",
        "outputId": "fac5ac2b-995b-48ab-d8a8-81ebeae3cb60"
      },
      "outputs": [
        {
          "output_type": "stream",
          "name": "stdout",
          "text": [
            "probando!\n"
          ]
        }
      ],
      "source": [
        "print('probando!')\n"
      ]
    },
    {
      "cell_type": "markdown",
      "metadata": {
        "id": "NOqO1gZ-Huva"
      },
      "source": [
        "## Variables"
      ]
    },
    {
      "cell_type": "markdown",
      "metadata": {
        "id": "hX9_v4r9Huva"
      },
      "source": [
        "\n",
        "#### 1)\n",
        "\n",
        "Utilitzant la línia print() de sota,\n",
        "a continuació, imprimiu el número 10, utilitzant els operadors\n",
        "(+) i (*).\n",
        "Multiplica i suma qualsevol combinació de nombres\n",
        "junts per obtenir el número 10.\n"
      ]
    },
    {
      "cell_type": "code",
      "execution_count": null,
      "metadata": {
        "colab": {
          "base_uri": "https://localhost:8080/"
        },
        "id": "edj_UHjvHuvd",
        "outputId": "9c211040-2416-43dd-f764-f2d5440335d3"
      },
      "outputs": [
        {
          "output_type": "stream",
          "name": "stdout",
          "text": [
            "10\n"
          ]
        }
      ],
      "source": [
        "print(2*5)"
      ]
    },
    {
      "cell_type": "markdown",
      "metadata": {
        "id": "Rp0qldvuHuvf"
      },
      "source": [
        "#### 2)\n",
        "print s'utilitza sovint per com debugger.\n",
        "De fet, podeu afegir múltiples\n",
        "arguments dins del print (que són\n",
        "separats per una coma). Afegiu-ho tot\n",
        "a continuació per imprimir:\n",
        "\n",
        "\n",
        "3 + 4, \"hauria de ser igual a 7\"\n"
      ]
    },
    {
      "cell_type": "code",
      "source": [
        "print(\"3+4,\"+\" hauria de ser igual a 7\")"
      ],
      "metadata": {
        "colab": {
          "base_uri": "https://localhost:8080/"
        },
        "id": "c1EfXE3qJYnl",
        "outputId": "d3d49746-1cd3-411a-d74b-7860a91d9658"
      },
      "execution_count": 5,
      "outputs": [
        {
          "output_type": "stream",
          "name": "stdout",
          "text": [
            "3+4, hauria de ser igual a 7\n"
          ]
        }
      ]
    },
    {
      "cell_type": "markdown",
      "metadata": {
        "id": "LgJEppilHuvh"
      },
      "source": [
        "#### 3)\n",
        "\n",
        "Afegiu dues strings juntes per\n",
        "imprimir el vostre nom i cognom!"
      ]
    },
    {
      "cell_type": "code",
      "source": [
        "print(\"paula \"+\"vila\")"
      ],
      "metadata": {
        "colab": {
          "base_uri": "https://localhost:8080/"
        },
        "id": "MfJCp2tmJ35b",
        "outputId": "491c72c4-45ee-4312-bf1d-10c18912eb11"
      },
      "execution_count": null,
      "outputs": [
        {
          "output_type": "stream",
          "name": "stdout",
          "text": [
            "paula vila\n"
          ]
        }
      ]
    },
    {
      "cell_type": "markdown",
      "metadata": {
        "id": "9jAN3jSsHuvi"
      },
      "source": [
        "#### 4)\n",
        "Using modulo to get the remainder of\n",
        "a number divided by 2 will tell you whether a\n",
        "number is even or odd. Try it below!\n",
        "\n"
      ]
    },
    {
      "cell_type": "code",
      "source": [
        "print(5%2)"
      ],
      "metadata": {
        "colab": {
          "base_uri": "https://localhost:8080/"
        },
        "id": "X5J1wrUrKBOb",
        "outputId": "f0582cc1-6ba1-4406-e706-0d0b290f87d0"
      },
      "execution_count": null,
      "outputs": [
        {
          "output_type": "stream",
          "name": "stdout",
          "text": [
            "1\n"
          ]
        }
      ]
    },
    {
      "cell_type": "markdown",
      "metadata": {
        "id": "btPphAeqHuvk"
      },
      "source": [
        "\n",
        "#### 5)\n",
        "Canvieu la ubicació de la Mia reassignant la variable ubicacio_actual\n",
        "amb una nova string! Per fer-ho, tindreu\n",
        "que afegir una nova línia de codi (no n'elimineu cap linia\n",
        "de codi escrit). Nota: també hauràs de deixar de comentar\n",
        "la impressió per imprimir la ubicació."
      ]
    },
    {
      "cell_type": "code",
      "execution_count": null,
      "metadata": {
        "colab": {
          "base_uri": "https://localhost:8080/"
        },
        "id": "Z5j1N4zJHuvk",
        "outputId": "d2012a56-0111-47c6-bc3d-52873940cae4"
      },
      "outputs": [
        {
          "output_type": "stream",
          "name": "stdout",
          "text": [
            "home\n"
          ]
        }
      ],
      "source": [
        "nom = 'Mia'\n",
        "ubicacio_actual = 'school'\n",
        "ubicacio_actual = \"home\"\n",
        "print(ubicacio_actual)\n"
      ]
    },
    {
      "cell_type": "markdown",
      "metadata": {
        "id": "V-RcTjckHuvl"
      },
      "source": [
        "\n",
        "#### 6)\n",
        "Creeu variables perquè el missatge s'imprimeixi\n",
        "a la pantalla!\n"
      ]
    },
    {
      "cell_type": "code",
      "source": [
        "persona = \"maria\"\n",
        "place = \"playa\"\n",
        "food = \"paella\"\n",
        "print(persona, 'va anar al', place, 'a menjar', food)"
      ],
      "metadata": {
        "colab": {
          "base_uri": "https://localhost:8080/"
        },
        "id": "XDvH-szTKr0T",
        "outputId": "954d7357-de2b-43b3-a685-d6fdd6e7dbc8"
      },
      "execution_count": null,
      "outputs": [
        {
          "output_type": "stream",
          "name": "stdout",
          "text": [
            "maria va anar al playa a menjar paella\n"
          ]
        }
      ]
    },
    {
      "cell_type": "code",
      "execution_count": null,
      "metadata": {
        "colab": {
          "base_uri": "https://localhost:8080/"
        },
        "id": "3MGQGZLFHuvm",
        "outputId": "881ae6ab-fd46-466f-818d-6a5fbc334114"
      },
      "outputs": [
        {
          "output_type": "stream",
          "name": "stdout",
          "text": [
            "maria va anar al playa a menjar paella\n"
          ]
        }
      ],
      "source": [
        "print(persona, 'va anar al', place, 'a menjar', food)"
      ]
    },
    {
      "cell_type": "markdown",
      "metadata": {
        "id": "Tt_uLyYmHuvm"
      },
      "source": [
        "\n",
        "#### 7)\n",
        "Ara, reassigneu totes les variables anteriors de manera que\n",
        "s'imprimeix un missatge nou a la pantalla!\n"
      ]
    },
    {
      "cell_type": "code",
      "source": [
        "persona = \"Bea\"\n",
        "place = \"casa\"\n",
        "food = \"platano\""
      ],
      "metadata": {
        "id": "bcNFJW09LbVY"
      },
      "execution_count": null,
      "outputs": []
    },
    {
      "cell_type": "code",
      "execution_count": null,
      "metadata": {
        "colab": {
          "base_uri": "https://localhost:8080/"
        },
        "id": "-DQruYtKHuvn",
        "outputId": "f3ea91f1-8e84-4982-9a8c-333a650a9179"
      },
      "outputs": [
        {
          "output_type": "stream",
          "name": "stdout",
          "text": [
            "Bea va anar al casa a menjar platano\n"
          ]
        }
      ],
      "source": [
        "print(persona, 'va anar al', place, 'a menjar', food)"
      ]
    },
    {
      "cell_type": "markdown",
      "metadata": {
        "id": "2taCRwZYHuvn"
      },
      "source": [
        "#### 8)\n",
        "Hi ha dues maneres d'augmentar\n",
        "nombre emmagatzemat a la variable 'compte'.\n",
        "Quina és la resposta per executar les 4 línies següents?\n",
        "Pista: cerca què fa += si no està clar!"
      ]
    },
    {
      "cell_type": "code",
      "source": [
        "4"
      ],
      "metadata": {
        "colab": {
          "base_uri": "https://localhost:8080/"
        },
        "id": "qLdAwcDWL_Gp",
        "outputId": "c89abe22-b62c-44b7-96d1-4868cec04fa0"
      },
      "execution_count": null,
      "outputs": [
        {
          "output_type": "execute_result",
          "data": {
            "text/plain": [
              "4"
            ]
          },
          "metadata": {},
          "execution_count": 15
        }
      ]
    },
    {
      "cell_type": "code",
      "source": [
        ""
      ],
      "metadata": {
        "id": "KeAl8q-oNXgS"
      },
      "execution_count": null,
      "outputs": []
    },
    {
      "cell_type": "code",
      "source": [
        "4"
      ],
      "metadata": {
        "colab": {
          "base_uri": "https://localhost:8080/"
        },
        "id": "_J_7tg26NYUN",
        "outputId": "847d2f3d-452c-4aa3-d501-08ad26157537"
      },
      "execution_count": null,
      "outputs": [
        {
          "output_type": "execute_result",
          "data": {
            "text/plain": [
              "4"
            ]
          },
          "metadata": {},
          "execution_count": 16
        }
      ]
    },
    {
      "cell_type": "code",
      "execution_count": null,
      "metadata": {
        "id": "f1fF7NtEHuvo"
      },
      "outputs": [],
      "source": [
        "count = 0\n",
        "count = count + 1\n",
        "count += 1\n",
        "count += count"
      ]
    },
    {
      "cell_type": "markdown",
      "metadata": {
        "id": "YoSIzxOMHuvo"
      },
      "source": [
        "\n",
        "#### 9)\n",
        "Intercanvi de temps! Al següent codi, volem intercanviar\n",
        "els valors s'emmagatzemen tant a 'a' com a 'b'.\n",
        "Aquest codi escrit a continuació no funciona. Per dur a terme\n",
        "aquesta tasca, haureu de crear-ne una variable addicional\n",
        "(podeu anomenar-la 'temp') per emmagatzemar-la\n",
        "\"a\" o \"b\" mentre intercanvieu. Dibuixa-ho si\n",
        "no estàs segur!\n"
      ]
    },
    {
      "cell_type": "code",
      "source": [
        "temp = \"a\""
      ],
      "metadata": {
        "id": "iCBSAmD5NgNp"
      },
      "execution_count": null,
      "outputs": []
    },
    {
      "cell_type": "code",
      "execution_count": null,
      "metadata": {
        "id": "yWrIAySfHuvp"
      },
      "outputs": [],
      "source": [
        "a = 1\n",
        "b = 2"
      ]
    },
    {
      "cell_type": "code",
      "execution_count": null,
      "metadata": {
        "id": "17WO7xOUHuvp",
        "outputId": "6aa8df0a-f3e5-4078-b4d2-49b82efe768f"
      },
      "outputs": [
        {
          "name": "stdout",
          "output_type": "stream",
          "text": [
            "BEFORE > a is: 1 - and b is:  2\n"
          ]
        }
      ],
      "source": [
        "print('ABANS > es:', a, '- i b es: ', b)\n"
      ]
    },
    {
      "cell_type": "code",
      "execution_count": null,
      "metadata": {
        "id": "qFWnX6MhHuvq"
      },
      "outputs": [],
      "source": [
        "#EL VOSTRE CODI AQUÍ\n"
      ]
    },
    {
      "cell_type": "code",
      "execution_count": null,
      "metadata": {
        "id": "d5kGdDQhHuvr"
      },
      "outputs": [],
      "source": [
        "print('DESPRES > a:', a, 'ha de ser 2 - i b:', b, 'ha de ser 1')"
      ]
    },
    {
      "cell_type": "markdown",
      "metadata": {
        "id": "cGj4Wc_iHuvr"
      },
      "source": [
        "#### 10)\n",
        "Què avaluarà això?\n",
        "Intenta fer que s'avaluï com a cert.\n",
        "Intenta fer-ho de diverses maneres!\n",
        "(suggeriment: proveu d'\"emetre\" el número\n",
        "a un string, o viceversa!)"
      ]
    },
    {
      "cell_type": "code",
      "execution_count": null,
      "metadata": {
        "id": "uud5rDtzHuvt"
      },
      "outputs": [],
      "source": [
        "print(3 == '3', 'should be True')"
      ]
    },
    {
      "cell_type": "markdown",
      "metadata": {
        "id": "1-bYokx9Huvv"
      },
      "source": [
        "## Functions"
      ]
    },
    {
      "cell_type": "markdown",
      "metadata": {
        "id": "NsyICABzHuvw"
      },
      "source": [
        "\n",
        "\n",
        "#### 1)\n",
        "Creeu una funció anomenada\n",
        "\"triple\" que agafa un\n",
        "paràmetre x i retorns\n",
        "el valor de x multiplicat\n",
        "per tres.\n"
      ]
    },
    {
      "cell_type": "code",
      "source": [
        "def  triple(x):\n",
        "    return 3*x\n",
        "triple(9)  \n",
        "  \n"
      ],
      "metadata": {
        "colab": {
          "base_uri": "https://localhost:8080/"
        },
        "id": "LB0EQlJwcJcI",
        "outputId": "101f01a9-a194-4501-a120-de640c9bb9eb"
      },
      "execution_count": 30,
      "outputs": [
        {
          "output_type": "execute_result",
          "data": {
            "text/plain": [
              "27"
            ]
          },
          "metadata": {},
          "execution_count": 30
        }
      ]
    },
    {
      "cell_type": "markdown",
      "metadata": {
        "id": "5hUEdcWDHuvx"
      },
      "source": [
        "\n",
        "\n",
        "\n",
        "#### 2)\n",
        "Creeu una funció anomenada \"resta\" això\n",
        "agafa dos paràmetres i retorna el resultat de\n",
        "el segon valor restat del primer.\n"
      ]
    },
    {
      "cell_type": "code",
      "source": [
        "def resta(x,y):\n",
        "     return x-y\n",
        "resta(9,5)"
      ],
      "metadata": {
        "colab": {
          "base_uri": "https://localhost:8080/"
        },
        "id": "Dfk4ILMac9KU",
        "outputId": "ddb563d3-9300-4f32-813a-e6390e234dfc"
      },
      "execution_count": 38,
      "outputs": [
        {
          "output_type": "execute_result",
          "data": {
            "text/plain": [
              "4"
            ]
          },
          "metadata": {},
          "execution_count": 38
        }
      ]
    },
    {
      "cell_type": "markdown",
      "metadata": {
        "id": "9kQqCZBkHuvz"
      },
      "source": [
        "\n",
        "\n",
        "\n",
        "\n",
        "#### 3)\n",
        "Creeu una funció anomenada \"resta_segura\" que\n",
        "agafa dos paràmetres i retorna el resultat de\n",
        "el segon valor restat del primer.\n",
        "Si no es poden restar els valors, retorna None.\n"
      ]
    },
    {
      "cell_type": "code",
      "source": [
        "def resta_segura(x,y):\n",
        "    if (type(x) is int or type(x) is float) and (type(y) is int or type(y) is float): \n",
        "       return x-y\n",
        "print (resta_segura(8,7))      \n"
      ],
      "metadata": {
        "colab": {
          "base_uri": "https://localhost:8080/"
        },
        "id": "e9pKKyvMj0--",
        "outputId": "48b53816-7759-414c-9332-a6fef8bb50f0"
      },
      "execution_count": 47,
      "outputs": [
        {
          "output_type": "stream",
          "name": "stdout",
          "text": [
            "1\n"
          ]
        }
      ]
    },
    {
      "cell_type": "markdown",
      "metadata": {
        "id": "7TY-odh1Huv0"
      },
      "source": [
        "#### 4)\n",
        "Create a function named \"greet_person\". It should\n",
        "accept a string as an argument and return that\n",
        "string as part of a longer sentence that says hello:\n",
        "i.e. \"Sophia\" --> \"Hello, Sophia!\"\n",
        "If the function is called with an argument that is\n",
        "not a string, it should return \"Please provide a name.\"\n",
        "i.e. 5 --> \"Please provide a name.\"\n",
        "\n",
        "Creeu una funció anomenada \"saluda_persona\". Hauria\n",
        "accepta una cadena com a argument i retorna-la\n",
        "cadena com a part d'una frase més llarga que diu hola:\n",
        "és a dir, \"Sophia\" --> \"Hola, Sophia!\"\n",
        "Si la funció es crida amb un argument que és\n",
        "no és una cadena, hauria de retornar \"Si us plau, proporcioneu un nom\".\n",
        "és a dir, 5 --> \"Si us plau, proporcioneu un nom\"."
      ]
    },
    {
      "cell_type": "code",
      "source": [
        "def saluda_persona(nombre):\n",
        "  if type(nombre) is not str:\n",
        "    return \"Si us plau, proporcioneu un nom\"\n",
        "  return \"hola \" + nombre\n",
        "nombre = \"Sofia\"\n",
        "saluda_persona(nombre)\n"
      ],
      "metadata": {
        "colab": {
          "base_uri": "https://localhost:8080/",
          "height": 35
        },
        "id": "NFm2fgJZhDdW",
        "outputId": "880fce40-b687-4696-91f7-a012ff9cd157"
      },
      "execution_count": 83,
      "outputs": [
        {
          "output_type": "execute_result",
          "data": {
            "text/plain": [
              "'hola Sofia'"
            ],
            "application/vnd.google.colaboratory.intrinsic+json": {
              "type": "string"
            }
          },
          "metadata": {},
          "execution_count": 83
        }
      ]
    }
  ],
  "metadata": {
    "kernelspec": {
      "display_name": "Python 3",
      "language": "python",
      "name": "python3"
    },
    "language_info": {
      "codemirror_mode": {
        "name": "ipython",
        "version": 3
      },
      "file_extension": ".py",
      "mimetype": "text/x-python",
      "name": "python",
      "nbconvert_exporter": "python",
      "pygments_lexer": "ipython3",
      "version": "3.7.6"
    },
    "colab": {
      "name": "Variables i Funcions.ipynb",
      "provenance": []
    }
  },
  "nbformat": 4,
  "nbformat_minor": 0
}