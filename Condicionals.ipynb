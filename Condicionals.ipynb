{
 "cells": [
  {
   "cell_type": "markdown",
   "metadata": {},
   "source": [
    "# Condicionals"
   ]
  },
  {
   "cell_type": "markdown",
   "metadata": {},
   "source": [
    "#### treball\n",
    "Crear una funció anomenada \"treball\"\n",
    "que tignui un paràmetre: \"cansat\"\n",
    "que és un boolean.\n",
    "si cansat és True, treball hauria de ser\n",
    "False. Si cansat és False, treball hauria\n",
    "de ser True. (és a dir, tornar el contrari)"
   ]
  },
  {
   "cell_type": "code",
   "execution_count": 2,
   "metadata": {
    "scrolled": true
   },
   "outputs": [
    {
     "data": {
      "text/plain": [
       "True"
      ]
     },
     "execution_count": 2,
     "metadata": {},
     "output_type": "execute_result"
    }
   ],
   "source": [
    "def treball(cansat):\n",
    "        return not cansat\n",
    "treball(False)\n"
   ]
  },
  {
   "cell_type": "markdown",
   "metadata": {},
   "source": [
    "#### es_par\n",
    "Create a function called \"is_even\"\n",
    "that takes one parameter: \"num\"\n",
    "which is a number. \n",
    "It returns True if the number is even\n",
    "and False if the number is odd. \n",
    "It should raise an error if not \n",
    "given a numer\n",
    "\n",
    "\n",
    "Crear una funció anomenada \"es_par\"\n",
    "que agafa un paràmetre: \"num\"\n",
    "que és un número.\n",
    "Retorna True si el nombre és par\n",
    "i Fals si el nombre és senar.\n",
    "Si el parametre no es un número, hauria de generar un error\n"
   ]
  },
  {
   "cell_type": "code",
   "execution_count": 64,
   "metadata": {},
   "outputs": [
    {
     "name": "stdout",
     "output_type": "stream",
     "text": [
      "True\n"
     ]
    }
   ],
   "source": [
    "\n",
    "def is_even(num):\n",
    "        if num % 2 == 0:\n",
    "            print(True)\n",
    "        else:\n",
    "            print(False)\n",
    "            \n",
    "is_even(6)\n",
    "\n",
    "\n"
   ]
  },
  {
   "cell_type": "markdown",
   "metadata": {},
   "source": [
    "#### coxe_en_semafor\n",
    "Crear una funció anomenada \"coxe_en_semafor\"\n",
    "Hauria de agafar un paràmetre: \"llum\"\n",
    "que dóna el color d'un semàfor.\n",
    "Si el color és \"vermell\", la funció hauria de tornar\n",
    "\"Stop\". Si el color és \"verd\", la funció\n",
    "hauria de tornar \"Go\". Si el color és \"groc\"\n",
    "la funció hauria de tornar \"Espera\". Si el color\n",
    "és una altra cosa, la funció hauria de donar\n",
    "una excepció."
   ]
  },
  {
   "cell_type": "code",
   "execution_count": 89,
   "metadata": {},
   "outputs": [
    {
     "name": "stdout",
     "output_type": "stream",
     "text": [
      "excepcion\n"
     ]
    },
    {
     "data": {
      "text/plain": [
       "int"
      ]
     },
     "execution_count": 89,
     "metadata": {},
     "output_type": "execute_result"
    }
   ],
   "source": [
    "def coche_en_semaforo(luz):\n",
    "    if luz == \"vermell\":\n",
    "        print(\"Stop\")\n",
    "    elif luz == \"verd\":\n",
    "        print(\"Go\")\n",
    "    elif luz == \"grog\":\n",
    "        print(\"espera\")\n",
    "    else:\n",
    "        print(\"excepcion\")\n",
    "coche_en_semaforo(\"kk\")\n",
    "    \n",
    "type(8)\n",
    "    "
   ]
  },
  {
   "cell_type": "markdown",
   "metadata": {},
   "source": [
    "#### fa_fred\n",
    "Crea una funció anomenada \"fa_fred\"\n",
    "que agafa un paràmetre: \"temperatura\"\n",
    "que és un nombre.\n",
    "Si la temperatura és superior als 15 graus,\n",
    "hauria de tornar False,\n",
    "si és igual o inferior a 15 graus,\n",
    "hauria de tornar True,\n",
    "si la temperatura no és un nombre,\n",
    "hauria de donar una excepció que\n",
    "diu \"la temperatura ha de ser un nombre\"\n",
    "(Pista: heu de plantejar una excepció\n",
    "amb EXACTAMENT aquest missatge)"
   ]
  },
  {
   "cell_type": "code",
   "execution_count": null,
   "metadata": {},
   "outputs": [],
   "source": [
    "def fa_fred(temperatura):\n",
    "    try:\n",
    "        temperatura = int(input(\"escribe la temperatura: \"))\n",
    "    except NameError:\n",
    "        print(\"debes poner un nombre\")\n",
    "    if temperatura > 15:\n",
    "        print(False)\n",
    "    else:\n",
    "        print(True)\n",
    "\n",
    "    \n",
    "\n"
   ]
  },
  {
   "cell_type": "markdown",
   "metadata": {},
   "source": [
    "#### porta_jersei\n",
    "Crea una funció anomenada \"porta_jersei\"\n",
    "que tindrá dos paràmetres: \"temperatura\", \"friolera\"\n",
    "El primer és un nombre, el segon un boolean\n",
    "(que de vegades pot ser un None).\n",
    "Si la temperatura és superior a 15,\n",
    "hauria de tornar False,\n",
    "si és de 15 o menys,\n",
    "hauria de tornar True si friolera\n",
    "és True, False si friolera és False,\n",
    "i True si friolera és None.\n",
    "(En altres paraules, si no sabem si\n",
    "és friolera o no, hauríem d'actuar\n",
    "amb precaució i digueu-li que porti un jersei)\n",
    "(Pista: hauríeu d'utilitzar la funció fa_fred!)"
   ]
  },
  {
   "cell_type": "markdown",
   "metadata": {},
   "source": [
    "*El següent conjunt de casos és el que volem condicionar*\n",
    "\n",
    "- Temperatura>15, no importa què sigui friolera -> no et portis jersei, fa calor\n",
    "- Temperatura<15,friolera=True -> portar jersei\n",
    "- Temperatura <15,friolera=False -> No cal portar jersei\n",
    "- Temperatura<15,friolera=None -> siguem curosos i portem jersei"
   ]
  },
  {
   "cell_type": "code",
   "execution_count": null,
   "metadata": {},
   "outputs": [],
   "source": [
    "def port_jersei(temperatura, friolera):\n",
    "    if temperatura > 15 :\n",
    "        print(False)\n",
    "    if temperatura "
   ]
  },
  {
   "cell_type": "markdown",
   "metadata": {},
   "source": [
    "# igualtat\n",
    "Crea una funció anomenada \"igualtat\"\n",
    "que agafi tres paràmetres: \"x\", \"y\" i \"z\"\n",
    "hauria de retornar el següent:\n",
    "si x, y i z són tots iguals --> \"tots són iguals\"\n",
    "si només x i y són iguals --> \"x i y són iguals\"\n",
    "si només z i x són iguals --> \"x i z són iguals\"\n",
    "si només y i z són iguals --> \"y i z són iguals\"\n",
    "si res és igual --> \"res és igual\""
   ]
  },
  {
   "cell_type": "markdown",
   "metadata": {},
   "source": [
    "----"
   ]
  },
  {
   "cell_type": "code",
   "execution_count": null,
   "metadata": {},
   "outputs": [],
   "source": [
    "def igualtat(x,y,z):\n",
    "    if x==y and y==z:\n",
    "        print(\"tots són iguals\")\n",
    "    elif x==y and (y!== z):\n",
    "        print(\"x i yo són iguals\")\n",
    "    elif z==x and (x!==y):\n",
    "        print(\"x i z són iguals\")\n",
    "    elif y==z and (x!==z):\n",
    "        print(\"y i z són iguals\")\n",
    "    else:\n",
    "        print(\"res es igual\")\n",
    "        \n",
    "igualtat(3,4,5)\n"
   ]
  },
  {
   "cell_type": "markdown",
   "metadata": {},
   "source": [
    "#### conductor\n",
    "Escriu una funció per a la situació següent:\n",
    "Sofia pot conduir cotxes manuals i automàtics.\n",
    "Diego només sap conduir automàtics.\n",
    "Sofia prefereix conduir llargues distàncies (> 10 km).\n",
    "Diego prefereix conduir distàncies curtes.\n",
    "\n",
    "La funció s'ha d'anomenar \"conductor\"\n",
    "i hauria de agafar dos paràmetres: \"distancia\", \"es_manual\".\n",
    "El primer ha de ser un número, el segon ha de ser un\n",
    "boolean. La funció hauria de retornar un string, que és\n",
    "el nom de la persona que ha de conduir, \"Diego\" o \"Sofia\"."
   ]
  },
  {
   "cell_type": "markdown",
   "metadata": {},
   "source": [
    "*El següent conjunt de casos és el que volem condicionar*\n",
    "\n",
    "- si es_manual és True -> Sofia\n",
    "- si es_manual és False, distància > 10 -> Sofia\n",
    "- si es_manual és False, distància <= 10 -> Diego"
   ]
  }
 ],
 "metadata": {
  "kernelspec": {
   "display_name": "Python 3 (ipykernel)",
   "language": "python",
   "name": "python3"
  },
  "language_info": {
   "codemirror_mode": {
    "name": "ipython",
    "version": 3
   },
   "file_extension": ".py",
   "mimetype": "text/x-python",
   "name": "python",
   "nbconvert_exporter": "python",
   "pygments_lexer": "ipython3",
   "version": "3.9.12"
  }
 },
 "nbformat": 4,
 "nbformat_minor": 4
}
